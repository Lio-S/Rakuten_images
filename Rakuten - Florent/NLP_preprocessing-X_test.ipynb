{
 "cells": [
  {
   "cell_type": "code",
   "execution_count": 13,
   "id": "c5d81075-25c9-4ea5-8e33-64f787078596",
   "metadata": {},
   "outputs": [],
   "source": [
    "import os\n",
    "import pandas as pd\n",
    "import numpy as np\n",
    "import matplotlib.pyplot as plt\n",
    "%matplotlib inline\n",
    "\n",
    "X_train = pd.read_csv(\"../data/X_test_update.csv\", index_col=0)\n",
    "y_train = pd.read_csv(\"../data/Y_train_CVw08PX.csv\", index_col=0)"
   ]
  },
  {
   "cell_type": "code",
   "execution_count": 15,
   "id": "3f76da56-3ed2-4079-a613-a3347c1f2fba",
   "metadata": {},
   "outputs": [
    {
     "data": {
      "text/html": [
       "<div>\n",
       "<style scoped>\n",
       "    .dataframe tbody tr th:only-of-type {\n",
       "        vertical-align: middle;\n",
       "    }\n",
       "\n",
       "    .dataframe tbody tr th {\n",
       "        vertical-align: top;\n",
       "    }\n",
       "\n",
       "    .dataframe thead th {\n",
       "        text-align: right;\n",
       "    }\n",
       "</style>\n",
       "<table border=\"1\" class=\"dataframe\">\n",
       "  <thead>\n",
       "    <tr style=\"text-align: right;\">\n",
       "      <th></th>\n",
       "      <th>designation</th>\n",
       "      <th>description</th>\n",
       "      <th>productid</th>\n",
       "      <th>imageid</th>\n",
       "    </tr>\n",
       "  </thead>\n",
       "  <tbody>\n",
       "    <tr>\n",
       "      <th>84916</th>\n",
       "      <td>Folkmanis Puppets - 2732 - Marionnette Et Théâ...</td>\n",
       "      <td>NaN</td>\n",
       "      <td>516376098</td>\n",
       "      <td>1019294171</td>\n",
       "    </tr>\n",
       "    <tr>\n",
       "      <th>84917</th>\n",
       "      <td>Porte Flamme Gaxix - Flamebringer Gaxix - 136/...</td>\n",
       "      <td>NaN</td>\n",
       "      <td>133389013</td>\n",
       "      <td>1274228667</td>\n",
       "    </tr>\n",
       "    <tr>\n",
       "      <th>84918</th>\n",
       "      <td>Pompe de filtration Speck Badu 95</td>\n",
       "      <td>NaN</td>\n",
       "      <td>4128438366</td>\n",
       "      <td>1295960357</td>\n",
       "    </tr>\n",
       "    <tr>\n",
       "      <th>84919</th>\n",
       "      <td>Robot de piscine électrique</td>\n",
       "      <td>&lt;p&gt;Ce robot de piscine d&amp;#39;un design innovan...</td>\n",
       "      <td>3929899732</td>\n",
       "      <td>1265224052</td>\n",
       "    </tr>\n",
       "    <tr>\n",
       "      <th>84920</th>\n",
       "      <td>Hsm Destructeur Securio C16 Coupe Crois¿E: 4 X...</td>\n",
       "      <td>NaN</td>\n",
       "      <td>152993898</td>\n",
       "      <td>940543690</td>\n",
       "    </tr>\n",
       "  </tbody>\n",
       "</table>\n",
       "</div>"
      ],
      "text/plain": [
       "                                             designation  \\\n",
       "84916  Folkmanis Puppets - 2732 - Marionnette Et Théâ...   \n",
       "84917  Porte Flamme Gaxix - Flamebringer Gaxix - 136/...   \n",
       "84918                  Pompe de filtration Speck Badu 95   \n",
       "84919                        Robot de piscine électrique   \n",
       "84920  Hsm Destructeur Securio C16 Coupe Crois¿E: 4 X...   \n",
       "\n",
       "                                             description   productid  \\\n",
       "84916                                                NaN   516376098   \n",
       "84917                                                NaN   133389013   \n",
       "84918                                                NaN  4128438366   \n",
       "84919  <p>Ce robot de piscine d&#39;un design innovan...  3929899732   \n",
       "84920                                                NaN   152993898   \n",
       "\n",
       "          imageid  \n",
       "84916  1019294171  \n",
       "84917  1274228667  \n",
       "84918  1295960357  \n",
       "84919  1265224052  \n",
       "84920   940543690  "
      ]
     },
     "execution_count": 15,
     "metadata": {},
     "output_type": "execute_result"
    }
   ],
   "source": [
    "X_train.head()"
   ]
  },
  {
   "cell_type": "code",
   "execution_count": 17,
   "id": "87b22b18-3fe7-4a34-a438-04aff858c5ef",
   "metadata": {},
   "outputs": [
    {
     "name": "stdout",
     "output_type": "stream",
     "text": [
      "<class 'pandas.core.frame.DataFrame'>\n",
      "Index: 13812 entries, 84916 to 98727\n",
      "Data columns (total 4 columns):\n",
      " #   Column       Non-Null Count  Dtype \n",
      "---  ------       --------------  ----- \n",
      " 0   designation  13812 non-null  object\n",
      " 1   description  8926 non-null   object\n",
      " 2   productid    13812 non-null  int64 \n",
      " 3   imageid      13812 non-null  int64 \n",
      "dtypes: int64(2), object(2)\n",
      "memory usage: 539.5+ KB\n"
     ]
    }
   ],
   "source": [
    "X_train.info()"
   ]
  },
  {
   "cell_type": "code",
   "execution_count": 19,
   "id": "855af100-be7b-4240-adf3-2aa59f0b2c01",
   "metadata": {},
   "outputs": [
    {
     "data": {
      "text/html": [
       "<div>\n",
       "<style scoped>\n",
       "    .dataframe tbody tr th:only-of-type {\n",
       "        vertical-align: middle;\n",
       "    }\n",
       "\n",
       "    .dataframe tbody tr th {\n",
       "        vertical-align: top;\n",
       "    }\n",
       "\n",
       "    .dataframe thead th {\n",
       "        text-align: right;\n",
       "    }\n",
       "</style>\n",
       "<table border=\"1\" class=\"dataframe\">\n",
       "  <thead>\n",
       "    <tr style=\"text-align: right;\">\n",
       "      <th></th>\n",
       "      <th>prdtypecode</th>\n",
       "    </tr>\n",
       "  </thead>\n",
       "  <tbody>\n",
       "    <tr>\n",
       "      <th>0</th>\n",
       "      <td>10</td>\n",
       "    </tr>\n",
       "    <tr>\n",
       "      <th>1</th>\n",
       "      <td>2280</td>\n",
       "    </tr>\n",
       "    <tr>\n",
       "      <th>2</th>\n",
       "      <td>50</td>\n",
       "    </tr>\n",
       "    <tr>\n",
       "      <th>3</th>\n",
       "      <td>1280</td>\n",
       "    </tr>\n",
       "    <tr>\n",
       "      <th>4</th>\n",
       "      <td>2705</td>\n",
       "    </tr>\n",
       "  </tbody>\n",
       "</table>\n",
       "</div>"
      ],
      "text/plain": [
       "   prdtypecode\n",
       "0           10\n",
       "1         2280\n",
       "2           50\n",
       "3         1280\n",
       "4         2705"
      ]
     },
     "execution_count": 19,
     "metadata": {},
     "output_type": "execute_result"
    }
   ],
   "source": [
    "y_train.head()"
   ]
  },
  {
   "cell_type": "code",
   "execution_count": 21,
   "id": "2377761e-b217-4bf7-9317-b3bd79ced084",
   "metadata": {},
   "outputs": [
    {
     "name": "stdout",
     "output_type": "stream",
     "text": [
      "27\n"
     ]
    }
   ],
   "source": [
    "print(len(y_train.value_counts()))"
   ]
  },
  {
   "cell_type": "code",
   "execution_count": 25,
   "id": "0f192ae4-ba02-4c58-b205-de86ead9c9bb",
   "metadata": {},
   "outputs": [
    {
     "name": "stdout",
     "output_type": "stream",
     "text": [
      "Taille de X_train réduite : (3453, 4)\n"
     ]
    }
   ],
   "source": [
    "# Réduire X_train à 5% des données\n",
    "X_train = X_train.sample(frac=0.5, random_state=42)\n",
    "\n",
    "print(\"Taille de X_train réduite :\", X_train.shape)\n"
   ]
  },
  {
   "cell_type": "markdown",
   "id": "e6fd2e2e-515b-421f-a032-141387ae9b7a",
   "metadata": {},
   "source": [
    "### Traitement des données textuelles"
   ]
  },
  {
   "cell_type": "code",
   "execution_count": 27,
   "id": "e6171abc-da49-458a-8b50-807eec19f4c1",
   "metadata": {},
   "outputs": [
    {
     "data": {
      "text/plain": [
       "'# Ajouter la description à la designation si description n\\'est pas NaN\\nX_train[\"designation_description\"] = X_train.apply(\\n    lambda row: f\"{row[\\'designation\\']} - {row[\\'description\\']}\" if pd.notna(row[\\'description\\']) else row[\\'designation\\'],\\n    axis=1\\n)\\n\\n# Afficher le DataFrame mis à jour\\nX_train.head()'"
      ]
     },
     "execution_count": 27,
     "metadata": {},
     "output_type": "execute_result"
    }
   ],
   "source": [
    "#Ne pas ajouter description pour le moment\n",
    "X_train[\"designation_description\"] = X_train['designation']\n",
    "\n",
    "\n",
    "'''# Ajouter la description à la designation si description n'est pas NaN\n",
    "X_train[\"designation_description\"] = X_train.apply(\n",
    "    lambda row: f\"{row['designation']} - {row['description']}\" if pd.notna(row['description']) else row['designation'],\n",
    "    axis=1\n",
    ")\n",
    "\n",
    "# Afficher le DataFrame mis à jour\n",
    "X_train.head()'''"
   ]
  },
  {
   "cell_type": "code",
   "execution_count": 29,
   "id": "8bc7509e-7547-4197-ac4c-4f5283bef183",
   "metadata": {},
   "outputs": [],
   "source": [
    "# Detecter les langues présentes\n",
    "\n",
    "# Solution eventuelle vu qu'il y a bcp d'erreur => d'abord detecter le francais, le mettre dans language_initial\n",
    "# et ensuite traiter les autres langues où il n'y a pas de francais pour detecter la langue, erreur moins grave si je traduis tout en fr derrière"
   ]
  },
  {
   "cell_type": "code",
   "execution_count": 31,
   "id": "d24bf111-0f4a-4ff9-8510-6c62e53afba7",
   "metadata": {},
   "outputs": [
    {
     "data": {
      "text/plain": [
       "'from langdetect import detect, DetectorFactory\\nfrom collections import Counter\\n\\n# Fixer le comportement aléatoire de langdetect\\nDetectorFactory.seed = 0\\n\\n# Fonction pour détecter la langue\\ndef detect_language(text):\\n    try:\\n        return detect(text)\\n    except:\\n        return \"unknown\"  # Pour les cas où la langue n\\'est pas détectable\\n\\n# Appliquer la détection des langues\\nX_train[\"language_initial\"] = X_train[\"designation\"].apply(detect_language)\\n\\n# Compter les langues présentes\\nlang_counts = Counter(X_train[\"language_initial\"])\\nprint(\"Langues détectées :\", lang_counts)\\n\\n# Afficher les résultats\\nX_train.head()'"
      ]
     },
     "execution_count": 31,
     "metadata": {},
     "output_type": "execute_result"
    }
   ],
   "source": [
    "'''from langdetect import detect, DetectorFactory\n",
    "from collections import Counter\n",
    "\n",
    "# Fixer le comportement aléatoire de langdetect\n",
    "DetectorFactory.seed = 0\n",
    "\n",
    "# Fonction pour détecter la langue\n",
    "def detect_language(text):\n",
    "    try:\n",
    "        return detect(text)\n",
    "    except:\n",
    "        return \"unknown\"  # Pour les cas où la langue n'est pas détectable\n",
    "\n",
    "# Appliquer la détection des langues\n",
    "X_train[\"language_initial\"] = X_train[\"designation\"].apply(detect_language)\n",
    "\n",
    "# Compter les langues présentes\n",
    "lang_counts = Counter(X_train[\"language_initial\"])\n",
    "print(\"Langues détectées :\", lang_counts)\n",
    "\n",
    "# Afficher les résultats\n",
    "X_train.head()'''"
   ]
  },
  {
   "cell_type": "code",
   "execution_count": 33,
   "id": "a35668e1-d5d9-487b-9425-371130226437",
   "metadata": {},
   "outputs": [
    {
     "data": {
      "text/html": [
       "<div>\n",
       "<style scoped>\n",
       "    .dataframe tbody tr th:only-of-type {\n",
       "        vertical-align: middle;\n",
       "    }\n",
       "\n",
       "    .dataframe tbody tr th {\n",
       "        vertical-align: top;\n",
       "    }\n",
       "\n",
       "    .dataframe thead th {\n",
       "        text-align: right;\n",
       "    }\n",
       "</style>\n",
       "<table border=\"1\" class=\"dataframe\">\n",
       "  <thead>\n",
       "    <tr style=\"text-align: right;\">\n",
       "      <th></th>\n",
       "      <th>designation</th>\n",
       "      <th>language_langid</th>\n",
       "    </tr>\n",
       "  </thead>\n",
       "  <tbody>\n",
       "    <tr>\n",
       "      <th>96459</th>\n",
       "      <td>Pompe ultra-flow 075 cv mono</td>\n",
       "      <td>en</td>\n",
       "    </tr>\n",
       "    <tr>\n",
       "      <th>93214</th>\n",
       "      <td>Maquillage Cleaner Brosse Dispositif De Nettoy...</td>\n",
       "      <td>fr</td>\n",
       "    </tr>\n",
       "    <tr>\n",
       "      <th>91913</th>\n",
       "      <td>Les Artifices Du Vivant</td>\n",
       "      <td>fr</td>\n",
       "    </tr>\n",
       "    <tr>\n",
       "      <th>88061</th>\n",
       "      <td>Brosse de tentacule pour robot Polaris 180 280...</td>\n",
       "      <td>fr</td>\n",
       "    </tr>\n",
       "    <tr>\n",
       "      <th>97715</th>\n",
       "      <td>Recharger - World Of Warcraft - Champ Honneur ...</td>\n",
       "      <td>en</td>\n",
       "    </tr>\n",
       "  </tbody>\n",
       "</table>\n",
       "</div>"
      ],
      "text/plain": [
       "                                             designation language_langid\n",
       "96459                       Pompe ultra-flow 075 cv mono              en\n",
       "93214  Maquillage Cleaner Brosse Dispositif De Nettoy...              fr\n",
       "91913                            Les Artifices Du Vivant              fr\n",
       "88061  Brosse de tentacule pour robot Polaris 180 280...              fr\n",
       "97715  Recharger - World Of Warcraft - Champ Honneur ...              en"
      ]
     },
     "execution_count": 33,
     "metadata": {},
     "output_type": "execute_result"
    }
   ],
   "source": [
    "import langid\n",
    "\n",
    "# Fonction alternative pour détecter la langue\n",
    "def detect_language_langid(text):\n",
    "    try:\n",
    "        return langid.classify(text)[0]\n",
    "    except:\n",
    "        return \"unknown\"\n",
    "\n",
    "# Appliquer la détection avec langid\n",
    "X_train[\"language_langid\"] = X_train[\"designation\"].apply(detect_language_langid)\n",
    "\n",
    "# Comparaison des résultats\n",
    "X_train[[\"designation\", \"language_langid\"]].head()\n"
   ]
  },
  {
   "cell_type": "code",
   "execution_count": 34,
   "id": "b228c541-713f-46c4-bcb0-80dbafd81124",
   "metadata": {},
   "outputs": [
    {
     "data": {
      "text/plain": [
       "language_langid\n",
       "fr    0.712714\n",
       "en    0.106864\n",
       "de    0.025775\n",
       "nl    0.023168\n",
       "it    0.021141\n",
       "es    0.015349\n",
       "da    0.008688\n",
       "lb    0.008398\n",
       "oc    0.007819\n",
       "la    0.006082\n",
       "no    0.005213\n",
       "et    0.004054\n",
       "ro    0.004054\n",
       "pt    0.003475\n",
       "zh    0.002896\n",
       "pl    0.002896\n",
       "tl    0.002606\n",
       "sv    0.002606\n",
       "eo    0.002317\n",
       "fi    0.002027\n",
       "Name: proportion, dtype: float64"
      ]
     },
     "execution_count": 34,
     "metadata": {},
     "output_type": "execute_result"
    }
   ],
   "source": [
    "X_train['language_langid'].value_counts(1).head(20)"
   ]
  },
  {
   "cell_type": "code",
   "execution_count": 35,
   "id": "33a42b1b-a200-467e-9823-9057c577d7de",
   "metadata": {},
   "outputs": [],
   "source": [
    "# Traduction en francais"
   ]
  },
  {
   "cell_type": "code",
   "execution_count": 36,
   "id": "77b8c6c4-2b9a-49c3-bae6-aff7b12a93cf",
   "metadata": {},
   "outputs": [
    {
     "name": "stdout",
     "output_type": "stream",
     "text": [
      "Nombre de descriptions dépassant encore 5000 caractères : 0\n",
      "                                 designation_description\n",
      "96459                       Pompe ultra-flow 075 cv mono\n",
      "93214  Maquillage Cleaner Brosse Dispositif De Nettoy...\n",
      "91913                            Les Artifices Du Vivant\n",
      "88061  Brosse de tentacule pour robot Polaris 180 280...\n",
      "97715  Recharger - World Of Warcraft - Champ Honneur ...\n"
     ]
    }
   ],
   "source": [
    "import pandas as pd\n",
    "\n",
    "# Fonction pour tronquer la description si elle dépasse 5000 caractères\n",
    "def truncate_text(text, max_length=2000, threshold=5000):\n",
    "    if isinstance(text, str) and len(text) > threshold:  # Vérifie si le texte dépasse le seuil\n",
    "        return text[:max_length]  # Tronquer à 2000 caractères\n",
    "    return text  # Sinon, garder le texte tel quel\n",
    "\n",
    "# Appliquer la fonction à la colonne 'description'\n",
    "X_train[\"designation_description\"] = X_train[\"designation_description\"].apply(lambda x: truncate_text(x))\n",
    "\n",
    "# Vérification : Compter les descriptions qui dépassent toujours 5000 caractères\n",
    "long_texts_count = X_train[\"designation_description\"].apply(lambda x: isinstance(x, str) and len(x) > 5000).sum()\n",
    "\n",
    "# Afficher le résultat\n",
    "print(f\"Nombre de descriptions dépassant encore 5000 caractères : {long_texts_count}\")\n",
    "print(X_train[[\"designation_description\"]].head())\n"
   ]
  },
  {
   "cell_type": "code",
   "execution_count": 37,
   "id": "ac9ca0f8-13f1-4623-993e-16de46110c4a",
   "metadata": {},
   "outputs": [],
   "source": [
    "from deep_translator import GoogleTranslator\n",
    "import pandas as pd\n",
    "\n",
    "# Fonction pour traduire en français\n",
    "def translate_to_french(text):\n",
    "    try:\n",
    "        if pd.notna(text):  # Ne traduire que si le texte n'est pas NaN\n",
    "            return GoogleTranslator(source='auto', target='fr').translate(text)\n",
    "        else:\n",
    "            return text\n",
    "    except Exception as e:\n",
    "        print(f\"Erreur de traduction pour le texte : {text} | Erreur : {e}\")\n",
    "        return text\n",
    "\n",
    "# Appliquer la traduction à la colonne 'designation_description'\n",
    "X_train[\"designation_description_fr\"] = X_train[\"designation_description\"].apply(translate_to_french)"
   ]
  },
  {
   "cell_type": "code",
   "execution_count": 42,
   "id": "74d789a5-ee27-4e33-b3ed-4cfe54a6ce7a",
   "metadata": {},
   "outputs": [
    {
     "data": {
      "text/html": [
       "<div>\n",
       "<style scoped>\n",
       "    .dataframe tbody tr th:only-of-type {\n",
       "        vertical-align: middle;\n",
       "    }\n",
       "\n",
       "    .dataframe tbody tr th {\n",
       "        vertical-align: top;\n",
       "    }\n",
       "\n",
       "    .dataframe thead th {\n",
       "        text-align: right;\n",
       "    }\n",
       "</style>\n",
       "<table border=\"1\" class=\"dataframe\">\n",
       "  <thead>\n",
       "    <tr style=\"text-align: right;\">\n",
       "      <th></th>\n",
       "      <th>designation_description</th>\n",
       "      <th>designation_description_fr</th>\n",
       "    </tr>\n",
       "  </thead>\n",
       "  <tbody>\n",
       "    <tr>\n",
       "      <th>96459</th>\n",
       "      <td>Pompe ultra-flow 075 cv mono</td>\n",
       "      <td>Pompe ultra-flow 075 cv mono</td>\n",
       "    </tr>\n",
       "    <tr>\n",
       "      <th>93214</th>\n",
       "      <td>Maquillage Cleaner Brosse Dispositif De Nettoy...</td>\n",
       "      <td>Maquillage Cleaner Brosse Dispositif De Nettoy...</td>\n",
       "    </tr>\n",
       "    <tr>\n",
       "      <th>91913</th>\n",
       "      <td>Les Artifices Du Vivant</td>\n",
       "      <td>Les Artifices Du Vivant</td>\n",
       "    </tr>\n",
       "    <tr>\n",
       "      <th>88061</th>\n",
       "      <td>Brosse de tentacule pour robot Polaris 180 280...</td>\n",
       "      <td>Brosse de tentacule pour robot Polaris 180 280...</td>\n",
       "    </tr>\n",
       "    <tr>\n",
       "      <th>97715</th>\n",
       "      <td>Recharger - World Of Warcraft - Champ Honneur ...</td>\n",
       "      <td>Recharger - World Of Warcraft - Champ Honneur ...</td>\n",
       "    </tr>\n",
       "    <tr>\n",
       "      <th>...</th>\n",
       "      <td>...</td>\n",
       "      <td>...</td>\n",
       "    </tr>\n",
       "    <tr>\n",
       "      <th>88190</th>\n",
       "      <td>7.4v 1300mah Batterie Au Lithium Pour Syma W1 ...</td>\n",
       "      <td>7.4v 1300mah Batterie Au Lithium Pour Syma W1 ...</td>\n",
       "    </tr>\n",
       "    <tr>\n",
       "      <th>97854</th>\n",
       "      <td>Buyiesky®Girafe En Peluche Cher Doux Poupées A...</td>\n",
       "      <td>Buyiesky®Girafe En Peluche Cher Doux Poupées A...</td>\n",
       "    </tr>\n",
       "    <tr>\n",
       "      <th>89007</th>\n",
       "      <td>Pharaon Égyptien Ancien Hooded Couverture Couv...</td>\n",
       "      <td>Pharaon Égyptien Ancien Hooded Couverture Couv...</td>\n",
       "    </tr>\n",
       "    <tr>\n",
       "      <th>92917</th>\n",
       "      <td>Yu-Gi-Oh -Duplication De Sort - Dcr - Fr083 - C</td>\n",
       "      <td>Yu-Gi-Oh -Duplication De Sort - Dcr - Fr083 - C</td>\n",
       "    </tr>\n",
       "    <tr>\n",
       "      <th>88990</th>\n",
       "      <td>Fellowes 4470701 Grande Caisse Pour Archives B...</td>\n",
       "      <td>Fellowes 4470701 Grande Caisse Pour Archives B...</td>\n",
       "    </tr>\n",
       "  </tbody>\n",
       "</table>\n",
       "<p>120 rows × 2 columns</p>\n",
       "</div>"
      ],
      "text/plain": [
       "                                 designation_description  \\\n",
       "96459                       Pompe ultra-flow 075 cv mono   \n",
       "93214  Maquillage Cleaner Brosse Dispositif De Nettoy...   \n",
       "91913                            Les Artifices Du Vivant   \n",
       "88061  Brosse de tentacule pour robot Polaris 180 280...   \n",
       "97715  Recharger - World Of Warcraft - Champ Honneur ...   \n",
       "...                                                  ...   \n",
       "88190  7.4v 1300mah Batterie Au Lithium Pour Syma W1 ...   \n",
       "97854  Buyiesky®Girafe En Peluche Cher Doux Poupées A...   \n",
       "89007  Pharaon Égyptien Ancien Hooded Couverture Couv...   \n",
       "92917    Yu-Gi-Oh -Duplication De Sort - Dcr - Fr083 - C   \n",
       "88990  Fellowes 4470701 Grande Caisse Pour Archives B...   \n",
       "\n",
       "                              designation_description_fr  \n",
       "96459                       Pompe ultra-flow 075 cv mono  \n",
       "93214  Maquillage Cleaner Brosse Dispositif De Nettoy...  \n",
       "91913                            Les Artifices Du Vivant  \n",
       "88061  Brosse de tentacule pour robot Polaris 180 280...  \n",
       "97715  Recharger - World Of Warcraft - Champ Honneur ...  \n",
       "...                                                  ...  \n",
       "88190  7.4v 1300mah Batterie Au Lithium Pour Syma W1 ...  \n",
       "97854  Buyiesky®Girafe En Peluche Cher Doux Poupées A...  \n",
       "89007  Pharaon Égyptien Ancien Hooded Couverture Couv...  \n",
       "92917    Yu-Gi-Oh -Duplication De Sort - Dcr - Fr083 - C  \n",
       "88990  Fellowes 4470701 Grande Caisse Pour Archives B...  \n",
       "\n",
       "[120 rows x 2 columns]"
      ]
     },
     "execution_count": 42,
     "metadata": {},
     "output_type": "execute_result"
    }
   ],
   "source": [
    "X_train[[\"designation_description\", \"designation_description_fr\"]].head(120)"
   ]
  },
  {
   "cell_type": "code",
   "execution_count": 43,
   "id": "e964b60b-4689-41a1-8bdc-b8afea580b25",
   "metadata": {},
   "outputs": [],
   "source": [
    "# Lemmatiser"
   ]
  },
  {
   "cell_type": "code",
   "execution_count": 44,
   "id": "26074b93-8f4f-4adc-8db8-ebcb750d70d5",
   "metadata": {},
   "outputs": [
    {
     "data": {
      "text/html": [
       "<div>\n",
       "<style scoped>\n",
       "    .dataframe tbody tr th:only-of-type {\n",
       "        vertical-align: middle;\n",
       "    }\n",
       "\n",
       "    .dataframe tbody tr th {\n",
       "        vertical-align: top;\n",
       "    }\n",
       "\n",
       "    .dataframe thead th {\n",
       "        text-align: right;\n",
       "    }\n",
       "</style>\n",
       "<table border=\"1\" class=\"dataframe\">\n",
       "  <thead>\n",
       "    <tr style=\"text-align: right;\">\n",
       "      <th></th>\n",
       "      <th>designation_description_fr</th>\n",
       "      <th>designation_description_fr_lemmatized</th>\n",
       "    </tr>\n",
       "  </thead>\n",
       "  <tbody>\n",
       "    <tr>\n",
       "      <th>96459</th>\n",
       "      <td>Pompe ultra-flow 075 cv mono</td>\n",
       "      <td>Pompe ultra-flow 075 cv mono</td>\n",
       "    </tr>\n",
       "    <tr>\n",
       "      <th>93214</th>\n",
       "      <td>Maquillage Cleaner Brosse Dispositif De Nettoy...</td>\n",
       "      <td>maquillage Cleaner Brosse Dispositif de nettoy...</td>\n",
       "    </tr>\n",
       "    <tr>\n",
       "      <th>91913</th>\n",
       "      <td>Les Artifices Du Vivant</td>\n",
       "      <td>le artifice de Vivant</td>\n",
       "    </tr>\n",
       "    <tr>\n",
       "      <th>88061</th>\n",
       "      <td>Brosse de tentacule pour robot Polaris 180 280...</td>\n",
       "      <td>brosse de tentacule pour robot Polaris 180 280...</td>\n",
       "    </tr>\n",
       "    <tr>\n",
       "      <th>97715</th>\n",
       "      <td>Recharger - World Of Warcraft - Champ Honneur ...</td>\n",
       "      <td>recharger - World of Warcraft - champ honneur ...</td>\n",
       "    </tr>\n",
       "  </tbody>\n",
       "</table>\n",
       "</div>"
      ],
      "text/plain": [
       "                              designation_description_fr  \\\n",
       "96459                       Pompe ultra-flow 075 cv mono   \n",
       "93214  Maquillage Cleaner Brosse Dispositif De Nettoy...   \n",
       "91913                            Les Artifices Du Vivant   \n",
       "88061  Brosse de tentacule pour robot Polaris 180 280...   \n",
       "97715  Recharger - World Of Warcraft - Champ Honneur ...   \n",
       "\n",
       "                   designation_description_fr_lemmatized  \n",
       "96459                       Pompe ultra-flow 075 cv mono  \n",
       "93214  maquillage Cleaner Brosse Dispositif de nettoy...  \n",
       "91913                              le artifice de Vivant  \n",
       "88061  brosse de tentacule pour robot Polaris 180 280...  \n",
       "97715  recharger - World of Warcraft - champ honneur ...  "
      ]
     },
     "execution_count": 44,
     "metadata": {},
     "output_type": "execute_result"
    }
   ],
   "source": [
    "import spacy\n",
    "\n",
    "# Charger le modèle de langue française optimisé\n",
    "nlp = spacy.load(\"fr_core_news_sm\")\n",
    "\n",
    "# Exemple de données\n",
    "# X_train = pd.DataFrame({'designation_description_fr': [\"Ceci est une phrase.\", \"Les enfants jouent dans le parc.\", None]})\n",
    "\n",
    "# Lemmatisation optimisée avec nlp.pipe\n",
    "def lemmatiser_colonne(df, colonne):\n",
    "    \"\"\"\n",
    "    Lemmatiser les phrases d'une colonne en batch pour optimiser la vitesse.\n",
    "    Args:\n",
    "        df (pd.DataFrame): Le DataFrame.\n",
    "        colonne (str): Le nom de la colonne à lemmatiser.\n",
    "    Returns:\n",
    "        list: Une liste des textes lemmatisés.\n",
    "    \"\"\"\n",
    "    # Remplacer les NaN par des chaînes vides temporairement pour éviter les erreurs\n",
    "    textes = df[colonne].fillna(\"\")\n",
    "\n",
    "    # Utiliser nlp.pipe pour traiter les textes en batch\n",
    "    docs = nlp.pipe(textes, batch_size=50, n_process=4)  # batch_size et n_process ajustables\n",
    "\n",
    "    # Extraire les lemmes de chaque texte\n",
    "    lemmatized_texts = [\" \".join([token.lemma_ for token in doc]) for doc in docs]\n",
    "\n",
    "    return lemmatized_texts\n",
    "\n",
    "# Appliquer la fonction à la colonne 'designation_description_fr'\n",
    "X_train['designation_description_fr_lemmatized'] = lemmatiser_colonne(X_train, 'designation_description_fr')\n",
    "\n",
    "# Afficher les résultats\n",
    "X_train[['designation_description_fr', 'designation_description_fr_lemmatized']].head()"
   ]
  },
  {
   "cell_type": "code",
   "execution_count": 45,
   "id": "c8a64356-5d1b-4a11-9be7-0280c31c42de",
   "metadata": {},
   "outputs": [],
   "source": [
    "# Gérer les stop words en anglais au cas ou et francais"
   ]
  },
  {
   "cell_type": "code",
   "execution_count": 46,
   "id": "1e124eee-6a75-4826-b2f8-4504cdf4dc41",
   "metadata": {},
   "outputs": [
    {
     "data": {
      "text/html": [
       "<div>\n",
       "<style scoped>\n",
       "    .dataframe tbody tr th:only-of-type {\n",
       "        vertical-align: middle;\n",
       "    }\n",
       "\n",
       "    .dataframe tbody tr th {\n",
       "        vertical-align: top;\n",
       "    }\n",
       "\n",
       "    .dataframe thead th {\n",
       "        text-align: right;\n",
       "    }\n",
       "</style>\n",
       "<table border=\"1\" class=\"dataframe\">\n",
       "  <thead>\n",
       "    <tr style=\"text-align: right;\">\n",
       "      <th></th>\n",
       "      <th>designation_description_fr_lemmatized</th>\n",
       "      <th>designation_description_fr_cleaned</th>\n",
       "    </tr>\n",
       "  </thead>\n",
       "  <tbody>\n",
       "    <tr>\n",
       "      <th>96459</th>\n",
       "      <td>Pompe ultra-flow 075 cv mono</td>\n",
       "      <td>Pompe ultra-flow 075 cv mono</td>\n",
       "    </tr>\n",
       "    <tr>\n",
       "      <th>93214</th>\n",
       "      <td>maquillage Cleaner Brosse Dispositif de nettoy...</td>\n",
       "      <td>maquillage Cleaner Brosse Dispositif nettoyage...</td>\n",
       "    </tr>\n",
       "    <tr>\n",
       "      <th>91913</th>\n",
       "      <td>le artifice de Vivant</td>\n",
       "      <td>artifice Vivant</td>\n",
       "    </tr>\n",
       "    <tr>\n",
       "      <th>88061</th>\n",
       "      <td>brosse de tentacule pour robot Polaris 180 280...</td>\n",
       "      <td>brosse tentacule robot Polaris 180 280 380 390...</td>\n",
       "    </tr>\n",
       "    <tr>\n",
       "      <th>97715</th>\n",
       "      <td>recharger - World of Warcraft - champ honneur ...</td>\n",
       "      <td>recharger - World Warcraft - champ honneur 31 - u</td>\n",
       "    </tr>\n",
       "  </tbody>\n",
       "</table>\n",
       "</div>"
      ],
      "text/plain": [
       "                   designation_description_fr_lemmatized  \\\n",
       "96459                       Pompe ultra-flow 075 cv mono   \n",
       "93214  maquillage Cleaner Brosse Dispositif de nettoy...   \n",
       "91913                              le artifice de Vivant   \n",
       "88061  brosse de tentacule pour robot Polaris 180 280...   \n",
       "97715  recharger - World of Warcraft - champ honneur ...   \n",
       "\n",
       "                      designation_description_fr_cleaned  \n",
       "96459                       Pompe ultra-flow 075 cv mono  \n",
       "93214  maquillage Cleaner Brosse Dispositif nettoyage...  \n",
       "91913                                    artifice Vivant  \n",
       "88061  brosse tentacule robot Polaris 180 280 380 390...  \n",
       "97715  recharger - World Warcraft - champ honneur 31 - u  "
      ]
     },
     "execution_count": 46,
     "metadata": {},
     "output_type": "execute_result"
    }
   ],
   "source": [
    "import pandas as pd\n",
    "import spacy\n",
    "\n",
    "# Charger les modèles français et anglais\n",
    "nlp_fr = spacy.load(\"fr_core_news_sm\")\n",
    "nlp_en = spacy.load(\"en_core_web_sm\")\n",
    "\n",
    "# Fusionner les stopwords des deux langues\n",
    "stopwords_fr = nlp_fr.Defaults.stop_words\n",
    "stopwords_en = nlp_en.Defaults.stop_words\n",
    "stopwords_combined = stopwords_fr.union(stopwords_en)  # Union des stopwords FR + EN\n",
    "\n",
    "# Fonction pour supprimer les stopwords\n",
    "def filtrer_stopwords_multilangue(texte):\n",
    "    if isinstance(texte, str):  # Vérifier si le texte est valide\n",
    "        mots = texte.split()  # Diviser le texte en mots\n",
    "        # Filtrer les mots qui ne sont pas dans les stopwords\n",
    "        mots_filtres = [mot for mot in mots if mot.lower() not in stopwords_combined]\n",
    "        return \" \".join(mots_filtres)  # Rejoindre les mots filtrés\n",
    "    return None  # Retourner None si NaN\n",
    "\n",
    "# Appliquer la fonction à la colonne 'designation_description_fr_lemmatized'\n",
    "X_train['designation_description_fr_cleaned'] = X_train['designation_description_fr_lemmatized'].apply(filtrer_stopwords_multilangue)\n",
    "\n",
    "# Afficher les résultats\n",
    "X_train[['designation_description_fr_lemmatized', 'designation_description_fr_cleaned']].head()"
   ]
  },
  {
   "cell_type": "code",
   "execution_count": 47,
   "id": "03de539b-20cf-4ae1-ae3d-3e257b37cf25",
   "metadata": {},
   "outputs": [
    {
     "data": {
      "text/html": [
       "<div>\n",
       "<style scoped>\n",
       "    .dataframe tbody tr th:only-of-type {\n",
       "        vertical-align: middle;\n",
       "    }\n",
       "\n",
       "    .dataframe tbody tr th {\n",
       "        vertical-align: top;\n",
       "    }\n",
       "\n",
       "    .dataframe thead th {\n",
       "        text-align: right;\n",
       "    }\n",
       "</style>\n",
       "<table border=\"1\" class=\"dataframe\">\n",
       "  <thead>\n",
       "    <tr style=\"text-align: right;\">\n",
       "      <th></th>\n",
       "      <th>designation_description_fr_cleaned</th>\n",
       "    </tr>\n",
       "  </thead>\n",
       "  <tbody>\n",
       "    <tr>\n",
       "      <th>96459</th>\n",
       "      <td>Pompe ultraflow 075 cv mono</td>\n",
       "    </tr>\n",
       "    <tr>\n",
       "      <th>93214</th>\n",
       "      <td>maquillage Cleaner Brosse Dispositif nettoyage...</td>\n",
       "    </tr>\n",
       "    <tr>\n",
       "      <th>91913</th>\n",
       "      <td>artifice Vivant</td>\n",
       "    </tr>\n",
       "    <tr>\n",
       "      <th>88061</th>\n",
       "      <td>brosse tentacule robot Polaris 180 280 380 390...</td>\n",
       "    </tr>\n",
       "    <tr>\n",
       "      <th>97715</th>\n",
       "      <td>recharger  World Warcraft  champ honneur 31  u</td>\n",
       "    </tr>\n",
       "  </tbody>\n",
       "</table>\n",
       "</div>"
      ],
      "text/plain": [
       "                      designation_description_fr_cleaned\n",
       "96459                        Pompe ultraflow 075 cv mono\n",
       "93214  maquillage Cleaner Brosse Dispositif nettoyage...\n",
       "91913                                    artifice Vivant\n",
       "88061  brosse tentacule robot Polaris 180 280 380 390...\n",
       "97715     recharger  World Warcraft  champ honneur 31  u"
      ]
     },
     "execution_count": 47,
     "metadata": {},
     "output_type": "execute_result"
    }
   ],
   "source": [
    "import re\n",
    "\n",
    "def nettoyer_texte_colonne(df, colonne):\n",
    "    \"\"\"\n",
    "    Nettoie une colonne texte en supprimant les symboles et ponctuations indésirables.\n",
    "\n",
    "    Args:\n",
    "        df (pd.DataFrame): DataFrame contenant la colonne à nettoyer.\n",
    "        colonne (str): Nom de la colonne à nettoyer.\n",
    "\n",
    "    Returns:\n",
    "        pd.DataFrame: DataFrame avec la colonne nettoyée.\n",
    "    \"\"\"\n",
    "    def nettoyer_texte(texte):\n",
    "        if isinstance(texte, str):\n",
    "            # Supprimer tous les caractères non-alphanumériques sauf les espaces\n",
    "            return re.sub(r'[^\\w\\s]', '', texte)\n",
    "        return texte  # Retourner inchangé si ce n'est pas une chaîne\n",
    "\n",
    "    # Appliquer le nettoyage à la colonne\n",
    "    df[colonne] = df[colonne].apply(nettoyer_texte)\n",
    "    return df\n",
    "\n",
    "# Exemple d'application\n",
    "# Nettoyer la colonne 'designation_description_fr_cleaned' dans votre DataFrame\n",
    "X_train = nettoyer_texte_colonne(X_train, 'designation_description_fr_cleaned')\n",
    "\n",
    "# Afficher les premières lignes pour vérifier le nettoyage\n",
    "X_train[['designation_description_fr_cleaned']].head()"
   ]
  },
  {
   "cell_type": "markdown",
   "id": "216b4213-c6ef-4cec-a8bf-88220634a793",
   "metadata": {},
   "source": [
    "### Visualisation et exploration des données textuelles\n",
    "\n",
    "à ce niveau, j'ai toutes mes données traduites, lemmatisées et avec les stopwords en anglais (par précaussion) et en français"
   ]
  },
  {
   "cell_type": "code",
   "execution_count": 49,
   "id": "13c80516-adac-4f4d-be6a-98d751f751ec",
   "metadata": {},
   "outputs": [],
   "source": [
    "# Faire le nuage de point"
   ]
  },
  {
   "cell_type": "code",
   "execution_count": 50,
   "id": "ec2cd675-959a-4688-b616-df807795b961",
   "metadata": {},
   "outputs": [],
   "source": [
    "from wordcloud import WordCloud\n",
    "import matplotlib.pyplot as plt\n",
    "import plotly.graph_objects as go\n",
    "import pandas as pd\n",
    "from collections import Counter\n",
    "\n",
    "def generate_wordcloud_top_words(X_train, y_train, categories, colormap='viridis'):\n",
    "    \"\"\"\n",
    "    Génère un WordCloud pour chaque catégorie avec les mots les plus fréquents\n",
    "    et l'affiche dans un graphe interactif avec Plotly.\n",
    "\n",
    "    Args:\n",
    "        X_train (pd.DataFrame): DataFrame contenant la colonne nettoyée 'designation_description_fr_cleaned'.\n",
    "        y_train (pd.DataFrame): DataFrame contenant la colonne 'prdtypecode'.\n",
    "        categories (list): Liste des catégories à inclure.\n",
    "        colormap (str): Nom de la colormap matplotlib pour le WordCloud.\n",
    "    \"\"\"\n",
    "    # Fusionner X_train et y_train sur l'index\n",
    "    merged_df = pd.merge(X_train, y_train, left_index=True, right_index=True)\n",
    "\n",
    "    # Supprimer les lignes avec des descriptions manquantes\n",
    "    merged_df = merged_df.dropna(subset=['designation_description_fr_cleaned'])\n",
    "\n",
    "    # Placeholder pour les WordClouds\n",
    "    wordcloud_images = {}\n",
    "\n",
    "    for category in categories:\n",
    "        # Filtrer les données par catégorie\n",
    "        category_df = merged_df[merged_df['prdtypecode'] == category]\n",
    "\n",
    "        if category_df.empty:\n",
    "            print(f\"Aucune description trouvée pour la catégorie '{category}'.\")\n",
    "            continue\n",
    "\n",
    "        # Combiner les descriptions\n",
    "        text = \" \".join(category_df['designation_description_fr_cleaned'].astype(str))\n",
    "\n",
    "        # Compter les fréquences des mots\n",
    "        word_counts = Counter(text.split())  # Compte les mots dans le texte\n",
    "        top_words = dict(word_counts.most_common(10))  # Conserver les 10 mots les plus fréquents\n",
    "\n",
    "        # Créer le WordCloud\n",
    "        wordcloud = WordCloud(\n",
    "            width=800,\n",
    "            height=400,\n",
    "            background_color=\"white\",\n",
    "            colormap=colormap\n",
    "        ).generate_from_frequencies(top_words)\n",
    "\n",
    "        # Stocker l'image du WordCloud\n",
    "        wordcloud_images[category] = wordcloud\n",
    "\n",
    "    # Créer un graphe interactif avec Plotly\n",
    "    fig = go.Figure()\n",
    "\n",
    "    for category, wordcloud in wordcloud_images.items():\n",
    "        # Convertir le WordCloud en image\n",
    "        img = wordcloud.to_array()\n",
    "\n",
    "        fig.add_trace(go.Image(z=img, name=str(category), visible=True))\n",
    "\n",
    "    # Ajouter un menu déroulant pour changer de catégorie\n",
    "    fig.update_layout(\n",
    "        title=\"WordCloud Interactif (Top 10 mots par catégorie)\",\n",
    "        updatemenus=[\n",
    "            dict(\n",
    "                type=\"dropdown\",\n",
    "                direction=\"down\",\n",
    "                x=0.5,\n",
    "                y=1.15,\n",
    "                buttons=[\n",
    "                    dict(label=\"Tous\",\n",
    "                         method=\"update\",\n",
    "                         args=[{\"visible\": [True] * len(wordcloud_images)},\n",
    "                               {\"title\": \"Toutes les catégories\"}]),\n",
    "                    *[dict(label=str(cat),\n",
    "                           method=\"update\",\n",
    "                           args=[{\"visible\": [cat == c for c in wordcloud_images.keys()]},\n",
    "                                 {\"title\": f\"Catégorie : {cat}\"}])\n",
    "                      for cat in wordcloud_images.keys()]\n",
    "                ]\n",
    "            )\n",
    "        ]\n",
    "    )\n",
    "\n",
    "    fig.show()\n"
   ]
  },
  {
   "cell_type": "code",
   "execution_count": 51,
   "id": "4516aefc-4dc2-4078-8006-6119c1e2f725",
   "metadata": {},
   "outputs": [],
   "source": [
    "#generate_wordcloud_top_words(X_train,y_train,y_train.prdtypecode.unique(),colormap='viridis')"
   ]
  },
  {
   "cell_type": "code",
   "execution_count": 52,
   "id": "1b7f8674-8930-4baf-a7ac-d43f316b1a6e",
   "metadata": {},
   "outputs": [
    {
     "name": "stdout",
     "output_type": "stream",
     "text": [
      "[  10 2280   50 1280 2705 2522 2582 1560 1281 1920 2403 1140 2583 1180\n",
      " 1300 2462 1160 2060   40   60 1320 1302 2220 2905 2585 1940 1301]\n"
     ]
    }
   ],
   "source": [
    "# Affichage des catégories pour pouvoir explorer les différents nuages de mots\n",
    "print(y_train.prdtypecode.unique())"
   ]
  },
  {
   "cell_type": "code",
   "execution_count": 53,
   "id": "837817f4-9d9e-491d-89db-3226a438eaab",
   "metadata": {},
   "outputs": [
    {
     "data": {
      "image/png": "[encoded data removed]",
      "text/plain": [
       "<Figure size 1600x600 with 2 Axes>"
      ]
     },
     "metadata": {},
     "output_type": "display_data"
    }
   ],
   "source": [
    "# Calculer le nombre de NaN et non-NaN\n",
    "nan_count = X_train['description'].isna().sum()\n",
    "not_nan_count = X_train['description'].notna().sum()\n",
    "\n",
    "# Créer un DataFrame pour la visualisation\n",
    "data_proportion = pd.DataFrame({\n",
    "    'Category': ['NaN', 'Champs Remplis'],\n",
    "    'Count': [nan_count, not_nan_count]\n",
    "})\n",
    "data_proportion\n",
    "\n",
    "import seaborn as sns\n",
    "\n",
    "# Calculer les proportions pour le camembert\n",
    "labels = ['NaN', 'Champs Remplis']\n",
    "sizes = [nan_count, not_nan_count]  # Les valeurs brutes pour chaque catégorie\n",
    "\n",
    "# Définir les couleurs (les mêmes pour les deux graphiques)\n",
    "colors = ['lightcoral', 'lightblue']\n",
    "\n",
    "# Créer une figure avec deux graphiques côte à côte\n",
    "fig, axes = plt.subplots(1, 2, figsize=(16, 6))  # 1 ligne, 2 colonnes\n",
    "\n",
    "# Graphique 1 : Comptage des NaN et des Champs Remplis (Barplot)\n",
    "sns.barplot(data=data_proportion, x='Category', y='Count', palette=colors, ax=axes[0])\n",
    "axes[0].set_title('Proportion de NaN vs Champs Remplis (Nombre)', fontsize=14)\n",
    "axes[0].set_xlabel('Category', fontsize=12)\n",
    "axes[0].set_ylabel('Count', fontsize=12)\n",
    "\n",
    "# Ajouter des annotations au-dessus des barres (Graphique 1)\n",
    "for p in axes[0].patches:\n",
    "    axes[0].annotate(f'{int(p.get_height())}',\n",
    "                     (p.get_x() + p.get_width() / 2., p.get_height()),\n",
    "                     ha='center', va='bottom', fontsize=12, color='black')\n",
    "\n",
    "# Graphique 2 : Camembert (Pie chart)\n",
    "axes[1].pie(sizes, labels=labels, autopct='%1.1f%%', startangle=90, colors=colors)\n",
    "axes[1].set_title('Répartition des NaN et Champs Remplis (%)', fontsize=14)\n",
    "\n",
    "# Ajouter une description sous les graphiques\n",
    "fig.text(0.5, -0.15,\n",
    "         \"Les deux graphiques permettent d'analyser la répartition des données dans la colonne 'description'.\\n\"\n",
    "         \"Le graphique de gauche montre le nombre absolu de champs manquants (NaN) et remplis, avec 29 800 champs\\n\"\n",
    "         \"manquants et 55 116 champs remplis. Le graphique de droite illustre la proportion relative : 64,9 %\\n\"\n",
    "         \"des champs sont remplis, tandis que 35,1 % sont manquants. Ces valeurs montrent qu'une majorité\\n\"\n",
    "         \"des descriptions sont disponibles, se pose malgré tout la question de la pertinence de cette colonne pour la suite de notre démarche.\",\n",
    "         ha='center', fontsize=12, color='gray')\n",
    "\n",
    "# Ajuster l'espace entre les graphiques\n",
    "plt.tight_layout()\n",
    "\n",
    "# Afficher les graphiques\n",
    "plt.show()\n"
   ]
  },
  {
   "cell_type": "code",
   "execution_count": 54,
   "id": "6ad5ad97-0999-4b0c-be21-97651ffe6c82",
   "metadata": {},
   "outputs": [],
   "source": [
    "#Sortir le nm moyen de mots dans chaque commentaire\n",
    "#Trop de mots dans les commentaires, cela demande beaucoup plus de ressources\n",
    "# et peut surcharger en information notre modèle"
   ]
  },
  {
   "cell_type": "code",
   "execution_count": 55,
   "id": "91dcdc2f-751a-4975-baad-2d335ccfa1f9",
   "metadata": {},
   "outputs": [
    {
     "name": "stdout",
     "output_type": "stream",
     "text": [
      "Nombre moyen de mots dans 'description' : 123.02\n",
      "Nombre moyen de mots dans 'designation' : 11.54\n"
     ]
    }
   ],
   "source": [
    "import pandas as pd\n",
    "\n",
    "# Fonction pour compter les mots dans une chaîne de texte\n",
    "def compter_mots(texte):\n",
    "    if isinstance(texte, str):  # Vérifier si c'est une chaîne valide\n",
    "        return len(texte.split())  # Diviser par les espaces et compter les mots\n",
    "    return None  # Retourner None pour les valeurs NaN\n",
    "\n",
    "# Appliquer la fonction et ignorer les NaN\n",
    "description_moyenne = X_train['description'].dropna().apply(lambda x: len(x.split())).mean()\n",
    "designation_moyenne = X_train['designation'].dropna().apply(lambda x: len(x.split())).mean()\n",
    "\n",
    "# Afficher les résultats\n",
    "print(f\"Nombre moyen de mots dans 'description' : {description_moyenne:.2f}\")\n",
    "print(f\"Nombre moyen de mots dans 'designation' : {designation_moyenne:.2f}\")\n"
   ]
  },
  {
   "cell_type": "markdown",
   "id": "7f98dc8c-553c-4636-a243-1186d5bc54e9",
   "metadata": {},
   "source": [
    "## Enregistrer les données"
   ]
  },
  {
   "cell_type": "code",
   "execution_count": 57,
   "id": "0dfbcb22-4f64-47f5-8f4d-60eba73f9d4a",
   "metadata": {},
   "outputs": [
    {
     "name": "stdout",
     "output_type": "stream",
     "text": [
      "enregistré avec succès dans ../data\\X_test_clean.pkl\n"
     ]
    }
   ],
   "source": [
    "import pickle\n",
    "import os\n",
    "\n",
    "# Chemin relatif pour enregistrer dans ../data/\n",
    "directory = \"../data\"\n",
    "filename = \"X_test_clean.pkl\"\n",
    "\n",
    "filepath = os.path.join(directory, filename)\n",
    "\n",
    "\n",
    "# Vérifier si le répertoire existe, sinon le créer\n",
    "if not os.path.exists(directory):\n",
    "    os.makedirs(directory)\n",
    "\n",
    "# Enregistrement du DataFrame X_train en pickle\n",
    "with open(filepath, \"wb\") as file:\n",
    "    pickle.dump(X_train, file)\n",
    "\n",
    "print(f\"enregistré avec succès dans {filepath}\")"
   ]
  },
  {
   "cell_type": "markdown",
   "id": "4fc42b57-8a76-4410-8207-0f71a1a1562b",
   "metadata": {},
   "source": [
    "## Encodage des données (embeddings)"
   ]
  },
  {
   "cell_type": "code",
   "execution_count": 125,
   "id": "96e8bb99-57c8-4f10-b5bf-900b28e3874b",
   "metadata": {},
   "outputs": [
    {
     "name": "stdout",
     "output_type": "stream",
     "text": [
      "Encodage classique avec Vectorizer :\n",
      "(8492, 5000)\n",
      "Exemple de mots fréquents : ['000' '009' '01' '01051997' '01071987' '0110' '02' '03' '032' '03mp']\n"
     ]
    }
   ],
   "source": [
    "from sklearn.feature_extraction.text import TfidfVectorizer\n",
    "# =====================================\n",
    "# Méthode 1 : Encodage avec Vectorizer\n",
    "# =====================================\n",
    "def encodage_vectorizer(data, max_features=5000):\n",
    "    \"\"\"\n",
    "    Encodage avec TfidfVectorizer sur les données textuelles.\n",
    "    \n",
    "    Args:\n",
    "        data (pd.Series): Série pandas contenant les textes.\n",
    "        max_features (int): Nombre maximum de mots les plus fréquents.\n",
    "    \n",
    "    Returns:\n",
    "        scipy.sparse.csr_matrix: Matrice d'encodage.\n",
    "        TfidfVectorizer: L'objet vectorizer entraîné.\n",
    "    \"\"\"\n",
    "    vectorizer = TfidfVectorizer(max_features=max_features)\n",
    "    X_vectorized = vectorizer.fit_transform(data)\n",
    "    return X_vectorized, vectorizer\n",
    "\n",
    "# Encodage Vectorizer\n",
    "X_vectorized, vectorizer = encodage_vectorizer(X_train['designation_description_fr_cleaned'])\n",
    "\n",
    "print(\"Encodage classique avec Vectorizer :\")\n",
    "print(X_vectorized.shape)  # Dimensions de la matrice encodée\n",
    "print(\"Exemple de mots fréquents :\", vectorizer.get_feature_names_out()[:10])"
   ]
  },
  {
   "cell_type": "code",
   "execution_count": 126,
   "id": "f47c0811-ec4f-4562-8358-450bc860ae7c",
   "metadata": {},
   "outputs": [
    {
     "ename": "ValueError",
     "evalue": "all the input array dimensions except for the concatenation axis must match exactly, but along dimension 1, the array at index 0 has size 0 and the array at index 1 has size 96",
     "output_type": "error",
     "traceback": [
      "\u001b[1;31m---------------------------------------------------------------------------\u001b[0m",
      "\u001b[1;31mValueError\u001b[0m                                Traceback (most recent call last)",
      "Cell \u001b[1;32mIn[126], line 34\u001b[0m\n\u001b[0;32m     31\u001b[0m     \u001b[38;5;28;01mreturn\u001b[39;00m np\u001b[38;5;241m.\u001b[39marray(embeddings)\n\u001b[0;32m     33\u001b[0m \u001b[38;5;66;03m# Encodage SpaCy\u001b[39;00m\n\u001b[1;32m---> 34\u001b[0m X_spacy \u001b[38;5;241m=\u001b[39m \u001b[43mencodage_spacy\u001b[49m\u001b[43m(\u001b[49m\u001b[43mX_train\u001b[49m\u001b[43m[\u001b[49m\u001b[38;5;124;43m'\u001b[39;49m\u001b[38;5;124;43mdesignation_description_fr_cleaned\u001b[39;49m\u001b[38;5;124;43m'\u001b[39;49m\u001b[43m]\u001b[49m\u001b[43m)\u001b[49m\n\u001b[0;32m     36\u001b[0m \u001b[38;5;28mprint\u001b[39m(\u001b[38;5;124m\"\u001b[39m\u001b[38;5;130;01m\\n\u001b[39;00m\u001b[38;5;124mEncodage avec SpaCy :\u001b[39m\u001b[38;5;124m\"\u001b[39m)\n\u001b[0;32m     37\u001b[0m \u001b[38;5;28mprint\u001b[39m(\u001b[38;5;124m\"\u001b[39m\u001b[38;5;124mTaille des données encodées :\u001b[39m\u001b[38;5;124m\"\u001b[39m, X_spacy\u001b[38;5;241m.\u001b[39mshape)  \u001b[38;5;66;03m# Shape: (n_samples, max_tokens, token_dim)\u001b[39;00m\n",
      "Cell \u001b[1;32mIn[126], line 27\u001b[0m, in \u001b[0;36mencodage_spacy\u001b[1;34m(data, model_name, token_dim, max_tokens)\u001b[0m\n\u001b[0;32m     25\u001b[0m     \u001b[38;5;28;01mif\u001b[39;00m \u001b[38;5;28mlen\u001b[39m(token_vectors) \u001b[38;5;241m<\u001b[39m max_tokens:\n\u001b[0;32m     26\u001b[0m         padding \u001b[38;5;241m=\u001b[39m np\u001b[38;5;241m.\u001b[39mzeros((max_tokens \u001b[38;5;241m-\u001b[39m \u001b[38;5;28mlen\u001b[39m(token_vectors), token_dim))\n\u001b[1;32m---> 27\u001b[0m         token_vectors \u001b[38;5;241m=\u001b[39m \u001b[43mnp\u001b[49m\u001b[38;5;241;43m.\u001b[39;49m\u001b[43mvstack\u001b[49m\u001b[43m(\u001b[49m\u001b[43m[\u001b[49m\u001b[43mtoken_vectors\u001b[49m\u001b[43m,\u001b[49m\u001b[43m \u001b[49m\u001b[43mpadding\u001b[49m\u001b[43m]\u001b[49m\u001b[43m)\u001b[49m\n\u001b[0;32m     29\u001b[0m     embeddings\u001b[38;5;241m.\u001b[39mappend(token_vectors)\n\u001b[0;32m     31\u001b[0m \u001b[38;5;28;01mreturn\u001b[39;00m np\u001b[38;5;241m.\u001b[39marray(embeddings)\n",
      "File \u001b[1;32m~\\anaconda3\\Lib\\site-packages\\numpy\\core\\shape_base.py:289\u001b[0m, in \u001b[0;36mvstack\u001b[1;34m(tup, dtype, casting)\u001b[0m\n\u001b[0;32m    287\u001b[0m \u001b[38;5;28;01mif\u001b[39;00m \u001b[38;5;129;01mnot\u001b[39;00m \u001b[38;5;28misinstance\u001b[39m(arrs, \u001b[38;5;28mlist\u001b[39m):\n\u001b[0;32m    288\u001b[0m     arrs \u001b[38;5;241m=\u001b[39m [arrs]\n\u001b[1;32m--> 289\u001b[0m \u001b[38;5;28;01mreturn\u001b[39;00m \u001b[43m_nx\u001b[49m\u001b[38;5;241;43m.\u001b[39;49m\u001b[43mconcatenate\u001b[49m\u001b[43m(\u001b[49m\u001b[43marrs\u001b[49m\u001b[43m,\u001b[49m\u001b[43m \u001b[49m\u001b[38;5;241;43m0\u001b[39;49m\u001b[43m,\u001b[49m\u001b[43m \u001b[49m\u001b[43mdtype\u001b[49m\u001b[38;5;241;43m=\u001b[39;49m\u001b[43mdtype\u001b[49m\u001b[43m,\u001b[49m\u001b[43m \u001b[49m\u001b[43mcasting\u001b[49m\u001b[38;5;241;43m=\u001b[39;49m\u001b[43mcasting\u001b[49m\u001b[43m)\u001b[49m\n",
      "\u001b[1;31mValueError\u001b[0m: all the input array dimensions except for the concatenation axis must match exactly, but along dimension 1, the array at index 0 has size 0 and the array at index 1 has size 96"
     ]
    }
   ],
   "source": [
    "# =====================================\n",
    "# Méthode 2 : Encodage avec SpaCy\n",
    "# =====================================\n",
    "def encodage_spacy(data, model_name='fr_core_news_md', token_dim=96, max_tokens=96):\n",
    "    \"\"\"\n",
    "    Encodage avec vecteurs SpaCy pré-entraînés.\n",
    "    \n",
    "    Args:\n",
    "        data (pd.Series): Série pandas contenant les textes.\n",
    "        model_name (str): Modèle SpaCy à utiliser.\n",
    "        token_dim (int): Taille du vecteur pour chaque mot.\n",
    "        max_tokens (int): Nombre maximum de tokens par texte.\n",
    "    \n",
    "    Returns:\n",
    "        np.array: Tableau 3D d'encodage (n_samples, max_tokens, token_dim).\n",
    "    \"\"\"\n",
    "    nlp = spacy.load(model_name)  # Charger le modèle SpaCy\n",
    "    embeddings = []\n",
    "    \n",
    "    for doc in nlp.pipe(data, batch_size=32):\n",
    "        # Extraire les vecteurs pour les tokens jusqu'à max_tokens\n",
    "        token_vectors = np.array([token.vector[:token_dim] for token in doc[:max_tokens]])\n",
    "        \n",
    "        # Compléter avec des zéros si moins de max_tokens\n",
    "        if len(token_vectors) < max_tokens:\n",
    "            padding = np.zeros((max_tokens - len(token_vectors), token_dim))\n",
    "            token_vectors = np.vstack([token_vectors, padding])\n",
    "        \n",
    "        embeddings.append(token_vectors)\n",
    "    \n",
    "    return np.array(embeddings)\n",
    "\n",
    "# Encodage SpaCy\n",
    "X_spacy = encodage_spacy(X_train['designation_description_fr_cleaned'])\n",
    "\n",
    "print(\"\\nEncodage avec SpaCy :\")\n",
    "print(\"Taille des données encodées :\", X_spacy.shape)  # Shape: (n_samples, max_tokens, token_dim)\n",
    "print(\"Exemple d'encodage pour un commentaire :\", X_spacy[0].shape)\n"
   ]
  },
  {
   "cell_type": "code",
   "execution_count": null,
   "id": "91faa8f3-cf0d-4044-b86b-8b8695845264",
   "metadata": {},
   "outputs": [],
   "source": [
    "# =====================================\n",
    "# Comparaison des deux méthodes\n",
    "# =====================================\n",
    "print(\"\\nRésumé :\")\n",
    "print(f\"Encodage Vectorizer : {X_vectorized.shape} (matrice creuse)\")\n",
    "print(f\"Encodage SpaCy : {X_spacy.shape} (matrice dense)\")"
   ]
  },
  {
   "cell_type": "markdown",
   "id": "13c77d95-ddcc-409b-ba0d-c8bac896aa0d",
   "metadata": {},
   "source": [
    "## Tests Deep learning"
   ]
  },
  {
   "cell_type": "code",
   "execution_count": null,
   "id": "29862f91-1e51-47b9-b129-b506aea86e7c",
   "metadata": {},
   "outputs": [],
   "source": [
    "'''import tensorflow as tf\n",
    "from tensorflow.keras.models import Sequential, Model\n",
    "from tensorflow.keras.layers import Dense, Dropout, Flatten, Input, Reshape, Conv1D, MaxPooling1D, Concatenate\n",
    "from sklearn.model_selection import train_test_split\n",
    "from sklearn.metrics import classification_report'''"
   ]
  },
  {
   "cell_type": "code",
   "execution_count": null,
   "id": "82b8af48-694c-42bb-9207-4b013c4cca1f",
   "metadata": {},
   "outputs": [],
   "source": [
    "'''# Découpage en train/test pour les deux encodages\n",
    "X_vectorized_train, X_vectorized_test, y_train, y_test = train_test_split(\n",
    "    X_vectorized, y_train_one_hot, test_size=0.2, random_state=42\n",
    ")\n",
    "\n",
    "X_spacy_train, X_spacy_test, _, _ = train_test_split(\n",
    "    X_spacy, y_train_one_hot, test_size=0.2, random_state=42\n",
    ")\n",
    "'''"
   ]
  },
  {
   "cell_type": "code",
   "execution_count": null,
   "id": "3d0802f5-70e0-496d-b32b-ae7dc494c9bf",
   "metadata": {},
   "outputs": [],
   "source": [
    "'''def build_dense_model(input_shape, output_shape):\n",
    "    model = Sequential()\n",
    "    model.add(Dense(128, input_dim=input_shape, activation='relu'))\n",
    "    model.add(Dropout(0.5))\n",
    "    model.add(Dense(64, activation='relu'))\n",
    "    model.add(Dropout(0.5))\n",
    "    model.add(Dense(output_shape, activation='softmax'))\n",
    "    model.compile(optimizer='adam', loss='categorical_crossentropy', metrics=['accuracy'])\n",
    "    return model\n",
    "\n",
    "# Créer et entraîner le modèle\n",
    "dense_model = build_dense_model(X_vectorized_train.shape[1], y_train.shape[1])\n",
    "print(\"Entraînement du modèle Dense avec Vectorizer...\")\n",
    "dense_history = dense_model.fit(\n",
    "    X_vectorized_train, y_train, validation_data=(X_vectorized_test, y_test), epochs=10, batch_size=32, verbose=1\n",
    ")\n",
    "'''"
   ]
  },
  {
   "cell_type": "code",
   "execution_count": null,
   "id": "df09be03-6de6-4f4d-b0dd-d8b24bc3b8e2",
   "metadata": {},
   "outputs": [],
   "source": [
    "'''def build_cnn_model(input_shape, output_shape):\n",
    "    input_layer = Input(shape=(input_shape[1], input_shape[2]))\n",
    "    \n",
    "    # Couches convolutionnelles\n",
    "    conv1 = Conv1D(128, 3, activation='relu')(input_layer)\n",
    "    pool1 = MaxPooling1D(2)(conv1)\n",
    "    conv2 = Conv1D(64, 3, activation='relu')(pool1)\n",
    "    pool2 = MaxPooling1D(2)(conv2)\n",
    "    \n",
    "    flatten = Flatten()(pool2)\n",
    "    dropout = Dropout(0.5)(flatten)\n",
    "    output_layer = Dense(output_shape, activation='softmax')(dropout)\n",
    "    \n",
    "    model = Model(inputs=input_layer, outputs=output_layer)\n",
    "    model.compile(optimizer='adam', loss='categorical_crossentropy', metrics=['accuracy'])\n",
    "    return model\n",
    "\n",
    "# Créer et entraîner le modèle\n",
    "cnn_model = build_cnn_model(X_spacy_train.shape, y_train.shape[1])\n",
    "print(\"\\nEntraînement du modèle CNN avec SpaCy...\")\n",
    "cnn_history = cnn_model.fit(\n",
    "    X_spacy_train, y_train, validation_data=(X_spacy_test, y_test), epochs=10, batch_size=32, verbose=1\n",
    ")\n",
    "'''"
   ]
  },
  {
   "cell_type": "code",
   "execution_count": null,
   "id": "4ec6302b-3957-46ef-9365-3138417648ba",
   "metadata": {},
   "outputs": [],
   "source": [
    "\"\"\"# Évaluer le modèle Dense\n",
    "print(\"\\nÉvaluation du modèle Dense :\")\n",
    "dense_eval = dense_model.evaluate(X_vectorized_test, y_test, verbose=0)\n",
    "print(f\"Loss: {dense_eval[0]:.4f}, Accuracy: {dense_eval[1]:.4f}\")\n",
    "\n",
    "# Évaluer le modèle CNN\n",
    "print(\"\\nÉvaluation du modèle CNN :\")\n",
    "cnn_eval = cnn_model.evaluate(X_spacy_test, y_test, verbose=0)\n",
    "print(f\"Loss: {cnn_eval[0]:.4f}, Accuracy: {cnn_eval[1]:.4f}\")\n",
    "\n",
    "# Comparaison des résultats\n",
    "print(\"\\nComparaison des performances :\")\n",
    "print(f\"Modèle Dense (Vectorizer) - Accuracy : {dense_eval[1]:.4f}\")\n",
    "print(f\"Modèle CNN (SpaCy)      - Accuracy : {cnn_eval[1]:.4f}\")\n",
    "\"\"\""
   ]
  },
  {
   "cell_type": "code",
   "execution_count": null,
   "id": "f8e918e5-c142-4019-9734-fce9b60716c6",
   "metadata": {},
   "outputs": [],
   "source": []
  },
  {
   "cell_type": "code",
   "execution_count": null,
   "id": "abbf4889-f7fd-45d0-a24e-0a5ce82c5307",
   "metadata": {},
   "outputs": [],
   "source": []
  }
 ],
 "metadata": {
  "kernelspec": {
   "display_name": "Python 3 (ipykernel)",
   "language": "python",
   "name": "python3"
  },
  "language_info": {
   "codemirror_mode": {
    "name": "ipython",
    "version": 3
   },
   "file_extension": ".py",
   "mimetype": "text/x-python",
   "name": "python",
   "nbconvert_exporter": "python",
   "pygments_lexer": "ipython3",
   "version": "3.11.7"
  }
 },
 "nbformat": 4,
 "nbformat_minor": 5
}
