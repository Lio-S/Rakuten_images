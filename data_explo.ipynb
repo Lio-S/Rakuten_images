{
 "cells": [
  {
   "cell_type": "code",
   "id": "initial_id",
   "metadata": {
    "collapsed": true,
    "ExecuteTime": {
     "end_time": "2024-11-20T18:39:39.766857Z",
     "start_time": "2024-11-20T18:39:39.721269Z"
    }
   },
   "source": [
    "import pandas as pd\n",
    "import os\n",
    "import numpy as np\n",
    "import matplotlib.pyplot as plt\n",
    "from matplotlib.image import imread\n",
    "import seaborn as sns\n",
    "from mistune.markdown import preprocess\n",
    "%matplotlib inline"
   ],
   "outputs": [],
   "execution_count": 1
  },
  {
   "metadata": {
    "ExecuteTime": {
     "end_time": "2024-11-20T18:40:43.233460Z",
     "start_time": "2024-11-20T18:40:42.420490Z"
    }
   },
   "cell_type": "code",
   "source": [
    "x_train = pd.read_csv(\"Raw_data/x_train_update.csv\", index_col=0)\n",
    "x_train.head(20)"
   ],
   "id": "bac5da06bff57129",
   "outputs": [
    {
     "data": {
      "text/plain": [
       "                                          designation  \\\n",
       "0   Olivia: Personalisiertes Notizbuch / 150 Seite...   \n",
       "1   Journal Des Arts (Le) N° 133 Du 28/09/2001 - L...   \n",
       "2   Grand Stylet Ergonomique Bleu Gamepad Nintendo...   \n",
       "3   Peluche Donald - Europe - Disneyland 2000 (Mar...   \n",
       "4                                La Guerre Des Tuques   \n",
       "5   Afrique Contemporaine N° 212 Hiver 2004 - Doss...   \n",
       "6          Christof E: Bildungsprozessen Auf Der Spur   \n",
       "7   Conquérant Sept Cahier Couverture Polypro 240 ...   \n",
       "8           Puzzle Scooby-Doo Avec Poster 2x35 Pieces   \n",
       "9   Tente Pliante V3s5-Pro Pvc Blanc - 3 X 4m50 - ...   \n",
       "10            Eames Inspired Sxw Chair - Pink - Black   \n",
       "11  Fauteuil Chesterfield Brenton 100% Cuir De Buf...   \n",
       "12  Peaceable Kingdom Wheres Bear? The Hide And Fi...   \n",
       "13               Paire De Voilages Imprimés Fantaisie   \n",
       "14  Matelas Mémoire De Forme 180x200 X 20 Cm Très ...   \n",
       "15       Zenith Pince Agrafeuse 591 N°10 Coloris Noir   \n",
       "16  Walter Scott Oeuvres Complètes Tomes 3456 10 E...   \n",
       "17                Mod Podge Dishwasher Safe Gloss 8oz   \n",
       "18  Power Rangers Rouge Force Mystic Figurine Tran...   \n",
       "19  Monde Illustre (Le) N° 3083 Du 20/01/1917 - L'...   \n",
       "\n",
       "                                          description   productid     imageid  \n",
       "0                                                 NaN  3804725264  1263597046  \n",
       "1                                                 NaN   436067568  1008141237  \n",
       "2   PILOT STYLE Touch Pen de marque Speedlink est ...   201115110   938777978  \n",
       "3                                                 NaN    50418756   457047496  \n",
       "4   Luc a des id&eacute;es de grandeur. Il veut or...   278535884  1077757786  \n",
       "5                                                 NaN     5862738   393356830  \n",
       "6                                                 NaN    91920807   907794536  \n",
       "7   CONQUERANT CLASSIQUE Cahier 240 x 320 mm seyès...   344240059   999581347  \n",
       "8                                                 NaN  4239126071  1325918866  \n",
       "9   Tente pliante V3S5 Pro PVC 500 gr/m² - 3 x 4m5...  3793572222  1245644185  \n",
       "10  The timeless DSW seat can now be paired with m...  1915836983  1111840281  \n",
       "11  Canapé et fauteuil chesterfield en cuir antiqu...  4127967621  1295816984  \n",
       "12  pCan my 2-year-old play a game? Yes Each game ...  3287127001  1204199842  \n",
       "13  Paire de voilages droits fantaisie qui mettra ...  1882164320  1109088140  \n",
       "14  MATELAS:<br />Â· Accueil : Ferme .<br />Â· Sou...  4108914287  1292441752  \n",
       "15  Pince agrafeuse 591 N°10. Capot en ABS. Dispos...  3718150116  1237257586  \n",
       "16                                                NaN  3735707499  1239242410  \n",
       "17                                                NaN  2666371748  1156191369  \n",
       "18                                                NaN    91015572   857195931  \n",
       "19                                                NaN   570628142  1027257229  "
      ],
      "text/html": [
       "<div>\n",
       "<style scoped>\n",
       "    .dataframe tbody tr th:only-of-type {\n",
       "        vertical-align: middle;\n",
       "    }\n",
       "\n",
       "    .dataframe tbody tr th {\n",
       "        vertical-align: top;\n",
       "    }\n",
       "\n",
       "    .dataframe thead th {\n",
       "        text-align: right;\n",
       "    }\n",
       "</style>\n",
       "<table border=\"1\" class=\"dataframe\">\n",
       "  <thead>\n",
       "    <tr style=\"text-align: right;\">\n",
       "      <th></th>\n",
       "      <th>designation</th>\n",
       "      <th>description</th>\n",
       "      <th>productid</th>\n",
       "      <th>imageid</th>\n",
       "    </tr>\n",
       "  </thead>\n",
       "  <tbody>\n",
       "    <tr>\n",
       "      <th>0</th>\n",
       "      <td>Olivia: Personalisiertes Notizbuch / 150 Seite...</td>\n",
       "      <td>NaN</td>\n",
       "      <td>3804725264</td>\n",
       "      <td>1263597046</td>\n",
       "    </tr>\n",
       "    <tr>\n",
       "      <th>1</th>\n",
       "      <td>Journal Des Arts (Le) N° 133 Du 28/09/2001 - L...</td>\n",
       "      <td>NaN</td>\n",
       "      <td>436067568</td>\n",
       "      <td>1008141237</td>\n",
       "    </tr>\n",
       "    <tr>\n",
       "      <th>2</th>\n",
       "      <td>Grand Stylet Ergonomique Bleu Gamepad Nintendo...</td>\n",
       "      <td>PILOT STYLE Touch Pen de marque Speedlink est ...</td>\n",
       "      <td>201115110</td>\n",
       "      <td>938777978</td>\n",
       "    </tr>\n",
       "    <tr>\n",
       "      <th>3</th>\n",
       "      <td>Peluche Donald - Europe - Disneyland 2000 (Mar...</td>\n",
       "      <td>NaN</td>\n",
       "      <td>50418756</td>\n",
       "      <td>457047496</td>\n",
       "    </tr>\n",
       "    <tr>\n",
       "      <th>4</th>\n",
       "      <td>La Guerre Des Tuques</td>\n",
       "      <td>Luc a des id&amp;eacute;es de grandeur. Il veut or...</td>\n",
       "      <td>278535884</td>\n",
       "      <td>1077757786</td>\n",
       "    </tr>\n",
       "    <tr>\n",
       "      <th>5</th>\n",
       "      <td>Afrique Contemporaine N° 212 Hiver 2004 - Doss...</td>\n",
       "      <td>NaN</td>\n",
       "      <td>5862738</td>\n",
       "      <td>393356830</td>\n",
       "    </tr>\n",
       "    <tr>\n",
       "      <th>6</th>\n",
       "      <td>Christof E: Bildungsprozessen Auf Der Spur</td>\n",
       "      <td>NaN</td>\n",
       "      <td>91920807</td>\n",
       "      <td>907794536</td>\n",
       "    </tr>\n",
       "    <tr>\n",
       "      <th>7</th>\n",
       "      <td>Conquérant Sept Cahier Couverture Polypro 240 ...</td>\n",
       "      <td>CONQUERANT CLASSIQUE Cahier 240 x 320 mm seyès...</td>\n",
       "      <td>344240059</td>\n",
       "      <td>999581347</td>\n",
       "    </tr>\n",
       "    <tr>\n",
       "      <th>8</th>\n",
       "      <td>Puzzle Scooby-Doo Avec Poster 2x35 Pieces</td>\n",
       "      <td>NaN</td>\n",
       "      <td>4239126071</td>\n",
       "      <td>1325918866</td>\n",
       "    </tr>\n",
       "    <tr>\n",
       "      <th>9</th>\n",
       "      <td>Tente Pliante V3s5-Pro Pvc Blanc - 3 X 4m50 - ...</td>\n",
       "      <td>Tente pliante V3S5 Pro PVC 500 gr/m² - 3 x 4m5...</td>\n",
       "      <td>3793572222</td>\n",
       "      <td>1245644185</td>\n",
       "    </tr>\n",
       "    <tr>\n",
       "      <th>10</th>\n",
       "      <td>Eames Inspired Sxw Chair - Pink - Black</td>\n",
       "      <td>The timeless DSW seat can now be paired with m...</td>\n",
       "      <td>1915836983</td>\n",
       "      <td>1111840281</td>\n",
       "    </tr>\n",
       "    <tr>\n",
       "      <th>11</th>\n",
       "      <td>Fauteuil Chesterfield Brenton 100% Cuir De Buf...</td>\n",
       "      <td>Canapé et fauteuil chesterfield en cuir antiqu...</td>\n",
       "      <td>4127967621</td>\n",
       "      <td>1295816984</td>\n",
       "    </tr>\n",
       "    <tr>\n",
       "      <th>12</th>\n",
       "      <td>Peaceable Kingdom Wheres Bear? The Hide And Fi...</td>\n",
       "      <td>pCan my 2-year-old play a game? Yes Each game ...</td>\n",
       "      <td>3287127001</td>\n",
       "      <td>1204199842</td>\n",
       "    </tr>\n",
       "    <tr>\n",
       "      <th>13</th>\n",
       "      <td>Paire De Voilages Imprimés Fantaisie</td>\n",
       "      <td>Paire de voilages droits fantaisie qui mettra ...</td>\n",
       "      <td>1882164320</td>\n",
       "      <td>1109088140</td>\n",
       "    </tr>\n",
       "    <tr>\n",
       "      <th>14</th>\n",
       "      <td>Matelas Mémoire De Forme 180x200 X 20 Cm Très ...</td>\n",
       "      <td>MATELAS:&lt;br /&gt;Â· Accueil : Ferme .&lt;br /&gt;Â· Sou...</td>\n",
       "      <td>4108914287</td>\n",
       "      <td>1292441752</td>\n",
       "    </tr>\n",
       "    <tr>\n",
       "      <th>15</th>\n",
       "      <td>Zenith Pince Agrafeuse 591 N°10 Coloris Noir</td>\n",
       "      <td>Pince agrafeuse 591 N°10. Capot en ABS. Dispos...</td>\n",
       "      <td>3718150116</td>\n",
       "      <td>1237257586</td>\n",
       "    </tr>\n",
       "    <tr>\n",
       "      <th>16</th>\n",
       "      <td>Walter Scott Oeuvres Complètes Tomes 3456 10 E...</td>\n",
       "      <td>NaN</td>\n",
       "      <td>3735707499</td>\n",
       "      <td>1239242410</td>\n",
       "    </tr>\n",
       "    <tr>\n",
       "      <th>17</th>\n",
       "      <td>Mod Podge Dishwasher Safe Gloss 8oz</td>\n",
       "      <td>NaN</td>\n",
       "      <td>2666371748</td>\n",
       "      <td>1156191369</td>\n",
       "    </tr>\n",
       "    <tr>\n",
       "      <th>18</th>\n",
       "      <td>Power Rangers Rouge Force Mystic Figurine Tran...</td>\n",
       "      <td>NaN</td>\n",
       "      <td>91015572</td>\n",
       "      <td>857195931</td>\n",
       "    </tr>\n",
       "    <tr>\n",
       "      <th>19</th>\n",
       "      <td>Monde Illustre (Le) N° 3083 Du 20/01/1917 - L'...</td>\n",
       "      <td>NaN</td>\n",
       "      <td>570628142</td>\n",
       "      <td>1027257229</td>\n",
       "    </tr>\n",
       "  </tbody>\n",
       "</table>\n",
       "</div>"
      ]
     },
     "execution_count": 2,
     "metadata": {},
     "output_type": "execute_result"
    }
   ],
   "execution_count": 2
  },
  {
   "metadata": {
    "ExecuteTime": {
     "end_time": "2024-11-20T13:19:42.365472Z",
     "start_time": "2024-11-20T13:19:42.320820Z"
    }
   },
   "cell_type": "code",
   "source": "x_train.info()",
   "id": "459cc6494eb74173",
   "outputs": [
    {
     "name": "stdout",
     "output_type": "stream",
     "text": [
      "<class 'pandas.core.frame.DataFrame'>\n",
      "Index: 84916 entries, 0 to 84915\n",
      "Data columns (total 4 columns):\n",
      " #   Column       Non-Null Count  Dtype \n",
      "---  ------       --------------  ----- \n",
      " 0   designation  84916 non-null  object\n",
      " 1   description  55116 non-null  object\n",
      " 2   productid    84916 non-null  int64 \n",
      " 3   imageid      84916 non-null  int64 \n",
      "dtypes: int64(2), object(2)\n",
      "memory usage: 3.2+ MB\n"
     ]
    }
   ],
   "execution_count": 3
  },
  {
   "metadata": {
    "ExecuteTime": {
     "end_time": "2024-11-20T18:40:47.521803Z",
     "start_time": "2024-11-20T18:40:47.480800Z"
    }
   },
   "cell_type": "code",
   "source": [
    "y_train = pd.read_csv(\"Raw_data/Y_train_CVw08PX.csv\", index_col=0)\n",
    "y_train.info()"
   ],
   "id": "abf13a9b01ac8826",
   "outputs": [
    {
     "name": "stdout",
     "output_type": "stream",
     "text": [
      "<class 'pandas.core.frame.DataFrame'>\n",
      "Index: 84916 entries, 0 to 84915\n",
      "Data columns (total 1 columns):\n",
      " #   Column       Non-Null Count  Dtype\n",
      "---  ------       --------------  -----\n",
      " 0   prdtypecode  84916 non-null  int64\n",
      "dtypes: int64(1)\n",
      "memory usage: 1.3 MB\n"
     ]
    }
   ],
   "execution_count": 3
  },
  {
   "metadata": {
    "ExecuteTime": {
     "end_time": "2024-11-20T13:29:24.325083Z",
     "start_time": "2024-11-20T13:20:20.852549Z"
    }
   },
   "cell_type": "code",
   "source": [
    "# identification du format des images :\n",
    "\n",
    "train_pwd = \"Raw_data/images/image_train\"\n",
    "img_lst = os.listdir(train_pwd)\n",
    "\n",
    "img_size = []\n",
    "\n",
    "for i in img_lst:\n",
    "    img = imread(train_pwd + \"/\" + i)\n",
    "    img_size.append(img.shape)\n",
    "# plt.imshow(img)\n",
    "\n",
    "img_size = pd.DataFrame(np.stack(img_size, axis=0))\n",
    "img_size.value_counts(normalize=True)\n",
    "\n",
    "# Toutes les images ont la même taille : 500*500 RGB"
   ],
   "id": "cc0951f0386f0a3e",
   "outputs": [
    {
     "data": {
      "text/plain": [
       "0    1    2\n",
       "500  500  3    1.0\n",
       "Name: proportion, dtype: float64"
      ]
     },
     "execution_count": 7,
     "metadata": {},
     "output_type": "execute_result"
    }
   ],
   "execution_count": 7
  },
  {
   "metadata": {},
   "cell_type": "markdown",
   "source": "Prétraitement des données textuelles en vue d'une data-viz",
   "id": "80f61348fcf34f97"
  },
  {
   "metadata": {
    "ExecuteTime": {
     "end_time": "2024-11-20T18:41:11.045521Z",
     "start_time": "2024-11-20T18:41:10.895001Z"
    }
   },
   "cell_type": "code",
   "source": [
    "# Regroupement des designations en fonction des classes :\n",
    "\n",
    "df = pd.concat([x_train.designation, y_train], axis=1)\n",
    "df = df.drop_duplicates().dropna()\n",
    "df['designation'] = df['designation'].str.lower().str.strip()\n",
    "grouped_dict = df.groupby(\"prdtypecode\")['designation'].apply(list).to_dict()\n",
    "\n",
    "print(grouped_dict.keys())\n",
    "print(type(grouped_dict[10]))"
   ],
   "id": "1b068c0636c910b0",
   "outputs": [
    {
     "name": "stdout",
     "output_type": "stream",
     "text": [
      "dict_keys([10, 40, 50, 60, 1140, 1160, 1180, 1280, 1281, 1300, 1301, 1302, 1320, 1560, 1920, 1940, 2060, 2220, 2280, 2403, 2462, 2522, 2582, 2583, 2585, 2705, 2905])\n",
      "<class 'list'>\n"
     ]
    }
   ],
   "execution_count": 4
  },
  {
   "metadata": {
    "ExecuteTime": {
     "end_time": "2024-11-20T20:09:08.296333Z",
     "start_time": "2024-11-20T20:08:02.971569Z"
    }
   },
   "cell_type": "code",
   "source": [
    "# transformation en token et suppression des bad words\n",
    "tokenized_dict = dict()\n",
    "\n",
    "import spacy\n",
    "nlp = spacy.load('xx_ent_wiki_sm') # Traitement multilingual\n",
    "\n",
    "for key in grouped_dict.keys():\n",
    "    doc = nlp(str(grouped_dict[key]))\n",
    "    # Filtrage des tokens: bad words, ponctuation, espaces, caractères vides (emoji etc...\n",
    "    tokenized_dict[key] = [token.text for token in doc if not (token.is_stop or token.is_punct or token.is_space or len(token) < 1)]\n",
    "\n",
    "print(tokenized_dict[10][:20])"
   ],
   "id": "c7fd3e31564e3213",
   "outputs": [
    {
     "name": "stdout",
     "output_type": "stream",
     "text": [
      "['olivia', 'personalisiertes', 'notizbuch', '150', 'seiten', 'punktraster', 'ca', 'din', 'a5', 'rosen', 'design', 'christof', 'e', 'bildungsprozessen', 'auf', 'der', 'spur', 'vassivière', '-en', 'limousin']\n"
     ]
    }
   ],
   "execution_count": 29
  },
  {
   "metadata": {
    "ExecuteTime": {
     "end_time": "2024-11-20T20:48:34.046353Z",
     "start_time": "2024-11-20T20:48:34.016768Z"
    }
   },
   "cell_type": "code",
   "source": "pd.Series(tokenized_dict[10]).value_counts()",
   "id": "1e8a702b42ff241e",
   "outputs": [
    {
     "data": {
      "text/plain": [
       "de             1318\n",
       "la              734\n",
       "et              563\n",
       "the             514\n",
       "le              482\n",
       "               ... \n",
       "régent            1\n",
       "mercurius         1\n",
       "heilsame          1\n",
       "din               1\n",
       "punktraster       1\n",
       "Name: count, Length: 10542, dtype: int64"
      ]
     },
     "execution_count": 34,
     "metadata": {},
     "output_type": "execute_result"
    }
   ],
   "execution_count": 34
  },
  {
   "metadata": {
    "ExecuteTime": {
     "end_time": "2024-11-20T20:35:49.434286Z",
     "start_time": "2024-11-20T20:09:52.667975Z"
    }
   },
   "cell_type": "code",
   "source": [
    "# Comptabilisation des tokens pour chaque catégorie\n",
    "from collections import Counter\n",
    "\n",
    "freq_by_category = {cat: Counter(tokens) for cat, tokens in tokenized_dict.items()}\n",
    "all_tokens = set(token for tokens in tokenized_dict.values() for token in tokens)\n",
    "common_tokens = set(token for token in all_tokens if sum(token in tokens for tokens in tokenized_dict.values()) > 1)\n",
    "\n",
    "# Exclusion des tokens communs\n",
    "filtered_freq_by_category = {\n",
    "    cat: {token: freq for token, freq in freqs.items() if token not in common_tokens}\n",
    "    for cat, freqs in freq_by_category.items()}\n"
   ],
   "id": "ef9441a1510b4a9a",
   "outputs": [
    {
     "ename": "AttributeError",
     "evalue": "'dict' object has no attribute 'head'",
     "output_type": "error",
     "traceback": [
      "\u001B[1;31m---------------------------------------------------------------------------\u001B[0m",
      "\u001B[1;31mAttributeError\u001B[0m                            Traceback (most recent call last)",
      "Cell \u001B[1;32mIn[30], line 13\u001B[0m\n\u001B[0;32m      8\u001B[0m \u001B[38;5;66;03m# Exclusion des tokens communs\u001B[39;00m\n\u001B[0;32m      9\u001B[0m filtered_freq_by_category \u001B[38;5;241m=\u001B[39m {\n\u001B[0;32m     10\u001B[0m     cat: {token: freq \u001B[38;5;28;01mfor\u001B[39;00m token, freq \u001B[38;5;129;01min\u001B[39;00m freqs\u001B[38;5;241m.\u001B[39mitems() \u001B[38;5;28;01mif\u001B[39;00m token \u001B[38;5;129;01mnot\u001B[39;00m \u001B[38;5;129;01min\u001B[39;00m common_tokens}\n\u001B[0;32m     11\u001B[0m     \u001B[38;5;28;01mfor\u001B[39;00m cat, freqs \u001B[38;5;129;01min\u001B[39;00m freq_by_category\u001B[38;5;241m.\u001B[39mitems()}\n\u001B[1;32m---> 13\u001B[0m \u001B[38;5;28mprint\u001B[39m(\u001B[43mfiltered_freq_by_category\u001B[49m\u001B[43m[\u001B[49m\u001B[38;5;241;43m10\u001B[39;49m\u001B[43m]\u001B[49m\u001B[38;5;241;43m.\u001B[39;49m\u001B[43mhead\u001B[49m(\u001B[38;5;241m10\u001B[39m))\n",
      "\u001B[1;31mAttributeError\u001B[0m: 'dict' object has no attribute 'head'"
     ]
    }
   ],
   "execution_count": 30
  },
  {
   "metadata": {
    "ExecuteTime": {
     "end_time": "2024-11-20T20:49:11.753692Z",
     "start_time": "2024-11-20T20:49:10.783718Z"
    }
   },
   "cell_type": "code",
   "source": [
    "import torch\n",
    "preprocess_nlp_data = {\"tokenized_dict\":tokenized_dict, \"freq_by_category\":freq_by_category, \"filtered_freq_by_category\":filtered_freq_by_category}\n",
    "torch.save(preprocess_nlp_data, \"Exported_data/preprocess_nlp_data.pth\")"
   ],
   "id": "bd017b353b7cfa46",
   "outputs": [],
   "execution_count": 35
  },
  {
   "metadata": {},
   "cell_type": "markdown",
   "source": "Création d'un nuage de mots en fonction des catégories",
   "id": "54174817acfe043d"
  },
  {
   "metadata": {},
   "cell_type": "code",
   "outputs": [],
   "execution_count": null,
   "source": [
    "import torch\n",
    "preprocess_nlp_data = torch.load(\"Exported_data/preprocess_nlp_data.pth\", weights_only=True)\n",
    "filtered_freq_by_category = preprocess_nlp_data[\"filtered_freq_by_category\"]"
   ],
   "id": "c2938ca90f353d25"
  },
  {
   "metadata": {},
   "cell_type": "code",
   "outputs": [],
   "execution_count": null,
   "source": [
    "from wordcloud import WordCloud\n",
    "import matplotlib.pyplot as plt\n",
    "\n",
    "# Couleurs par catégorie\n",
    "colors = {\"Category A\": \"blue\", \"Category B\": \"green\", \"Category C\": \"red\"}\n",
    "\n",
    "# Fonction pour appliquer les couleurs\n",
    "def color_func(word, font_size, position, orientation, random_state=None, **kwargs):\n",
    "    for category, tokens in filtered_freq_by_category.items():\n",
    "        if word in tokens:\n",
    "            return colors[category]\n",
    "    return \"black\"  # Par défaut\n",
    "\n",
    "# Fusionner toutes les fréquences pour le nuage\n",
    "merged_freq = {}\n",
    "for freqs in filtered_freq_by_category.values():\n",
    "    merged_freq.update(freqs)\n",
    "\n",
    "# Créer le nuage de mots\n",
    "wordcloud = WordCloud(width=800, height=400, background_color=\"white\").generate_from_frequencies(merged_freq)\n",
    "\n",
    "# Appliquer les couleurs par catégorie\n",
    "wordcloud.recolor(color_func=color_func)\n",
    "\n",
    "# Afficher le nuage de mots\n",
    "plt.figure(figsize=(10, 5))\n",
    "plt.imshow(wordcloud, interpolation=\"bilinear\")\n",
    "plt.axis(\"off\")\n",
    "plt.show()\n"
   ],
   "id": "1d0990d8ab0eab98"
  }
 ],
 "metadata": {
  "kernelspec": {
   "display_name": "Python 3",
   "language": "python",
   "name": "python3"
  },
  "language_info": {
   "codemirror_mode": {
    "name": "ipython",
    "version": 2
   },
   "file_extension": ".py",
   "mimetype": "text/x-python",
   "name": "python",
   "nbconvert_exporter": "python",
   "pygments_lexer": "ipython2",
   "version": "2.7.6"
  }
 },
 "nbformat": 4,
 "nbformat_minor": 5
}
